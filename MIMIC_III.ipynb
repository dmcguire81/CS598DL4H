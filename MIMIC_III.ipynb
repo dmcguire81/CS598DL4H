{
  "cells": [
    {
      "cell_type": "markdown",
      "metadata": {
        "colab_type": "text",
        "id": "view-in-github"
      },
      "source": [
        "<a href=\"https://colab.research.google.com/github/dmcguire81/CS598DL4H/blob/main/MIMIC_III.ipynb\" target=\"_parent\"><img src=\"https://colab.research.google.com/assets/colab-badge.svg\" alt=\"Open In Colab\"/></a>"
      ]
    },
    {
      "cell_type": "code",
      "execution_count": null,
      "metadata": {
        "colab": {
          "base_uri": "https://localhost:8080/"
        },
        "id": "EtodD38JSLvv",
        "outputId": "9b44285e-a530-4f8f-bbb9-b3543390b420"
      },
      "outputs": [],
      "source": [
        "!gcloud config set project cs598dl4h"
      ]
    },
    {
      "cell_type": "code",
      "execution_count": null,
      "metadata": {},
      "outputs": [],
      "source": [
        "# Put the MIMIC-III data in the caml-mimic repo according to layout in caml-mimic/README.md\n",
        "!gsutil -u cs598dl4h cp gs://mimiciii-1.4.physionet.org/D_ICD_DIAGNOSES.csv.gz caml-mimic/mimicdata/\n",
        "!gsutil -u cs598dl4h cp gs://mimiciii-1.4.physionet.org/D_ICD_PROCEDURES.csv.gz caml-mimic/mimicdata/\n",
        "!gsutil -u cs598dl4h cp gs://mimiciii-1.4.physionet.org/NOTEEVENTS.csv.gz caml-mimic/mimicdata/mimic3/\n",
        "!gsutil -u cs598dl4h cp gs://mimiciii-1.4.physionet.org/DIAGNOSES_ICD.csv.gz caml-mimic/mimicdata/mimic3/\n",
        "!gsutil -u cs598dl4h cp gs://mimiciii-1.4.physionet.org/PROCEDURES_ICD.csv.gz caml-mimic/mimicdata/mimic3/"
      ]
    },
    {
      "cell_type": "code",
      "execution_count": null,
      "metadata": {},
      "outputs": [],
      "source": [
        "!gunzip caml-mimic/mimicdata/D_ICD_DIAGNOSES.csv.gz\n",
        "!gunzip caml-mimic/mimicdata/D_ICD_PROCEDURES.csv.gz\n",
        "!gunzip caml-mimic/mimicdata/mimic3/NOTEEVENTS.csv.gz\n",
        "!gunzip caml-mimic/mimicdata/mimic3/DIAGNOSES_ICD.csv.gz\n",
        "!gunzip caml-mimic/mimicdata/mimic3/PROCEDURES_ICD.csv.gz"
      ]
    },
    {
      "cell_type": "code",
      "execution_count": null,
      "metadata": {},
      "outputs": [],
      "source": [
        "# continue to caml-mimic/notebooks/dataproc_mimic_III.ipy"
      ]
    },
    {
      "cell_type": "markdown",
      "metadata": {},
      "source": [
        "Continue on with [caml-mimic/notebooks/dataproc_mimic_III.ipynb](caml-mimic/notebooks/dataproc_mimic_III.ipynb)"
      ]
    },
    {
      "cell_type": "code",
      "execution_count": null,
      "metadata": {},
      "outputs": [],
      "source": [
        "# Format data as detailed in Explainable-Automated-Medical-Coding/datasets/README.md\n",
        "from csv_to_txt import main\n",
        "\n",
        "main(\"caml-mimic/mimicdata/mimic3/dev_50.csv\", \"Explainable-Automated-Medical-Coding/datasets/mimiciii_dev_50_th0.txt\")\n",
        "main(\"caml-mimic/mimicdata/mimic3/test_50.csv\", \"Explainable-Automated-Medical-Coding/datasets/mimiciii_test_50_th0.txt\")\n",
        "main(\"caml-mimic/mimicdata/mimic3/train_50.csv\", \"Explainable-Automated-Medical-Coding/datasets/mimiciii_train_50_th0.txt\")\n"
      ]
    },
    {
      "cell_type": "code",
      "execution_count": null,
      "metadata": {},
      "outputs": [],
      "source": [
        "# put additional data in place per Explainable-Automated-Medical-Coding/README.md\n",
        "!cp caml-mimic/mimicdata/D_ICD_DIAGNOSES.csv Explainable-Automated-Medical-Coding/knowledge_bases/\n",
        "!cp caml-mimic/mimicdata/D_ICD_DIAGNOSES.csv Explainable-Automated-Medical-Coding/knowledge_bases/\n"
      ]
    },
    {
      "cell_type": "markdown",
      "metadata": {},
      "source": [
        "Download `checkpoints`, `cache_vocabulary_label_pik`, and `embeddings` from [Onedrive](https://onedrive.live.com/?authkey=%21ACZVuCnEV2zDKow&id=22F95C44F607EC5B%21255141&cid=22F95C44F607EC5B).\n",
        "\n",
        "Continue on to [Explainable-Automated-Medical-Coding/HLAN/demo_HLAN_viz.ipynb](Explainable-Automated-Medical-Coding/HLAN/demo_HLAN_viz.ipynb)."
      ]
    }
  ],
  "metadata": {
    "colab": {
      "authorship_tag": "ABX9TyO3AsKO+Xp4KZkx8iHkhqC+",
      "collapsed_sections": [],
      "include_colab_link": true,
      "name": "MIMIC-III.ipynb",
      "provenance": []
    },
    "kernelspec": {
      "display_name": "Python 3",
      "name": "python3"
    },
    "language_info": {
      "codemirror_mode": {
        "name": "ipython",
        "version": 3
      },
      "file_extension": ".py",
      "mimetype": "text/x-python",
      "name": "python",
      "nbconvert_exporter": "python",
      "pygments_lexer": "ipython3",
      "version": "3.8.11"
    }
  },
  "nbformat": 4,
  "nbformat_minor": 0
}
