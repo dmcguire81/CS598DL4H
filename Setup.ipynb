{
  "cells": [
    {
      "cell_type": "markdown",
      "metadata": {},
      "source": [
        "<a href=\"https://colab.research.google.com/github/dmcguire81/CS598DL4H/blob/main/Setup.ipynb\" target=\"_parent\"><img src=\"https://colab.research.google.com/assets/colab-badge.svg\" alt=\"Open In Colab\"/></a>"
      ]
    },
    {
      "cell_type": "code",
      "execution_count": null,
      "metadata": {
        "colab": {
          "base_uri": "https://localhost:8080/"
        },
        "id": "zFv-kGMlwdbY",
        "outputId": "ba1f1a21-fc88-42a8-e417-6305fd1a1bf8"
      },
      "outputs": [],
      "source": [
        "from google.colab import drive\n",
        "drive.mount('/content/gdrive')\n",
        "\n",
        "! ls"
      ]
    },
    {
      "cell_type": "code",
      "execution_count": null,
      "metadata": {
        "id": "aUdNKISX0kQz"
      },
      "outputs": [],
      "source": [
        "from google.colab import files\n",
        "uploaded = files.upload()"
      ]
    },
    {
      "cell_type": "code",
      "execution_count": null,
      "metadata": {
        "colab": {
          "base_uri": "https://localhost:8080/"
        },
        "id": "vjQDOm7WxZOx",
        "outputId": "17727808-28e7-4142-efec-80e0f64675ea"
      },
      "outputs": [],
      "source": [
        "! rm -rf /root/.ssh/*\n",
        "! mkdir -p /root/.ssh\n",
        "! tar -xvzf ssh.tar.gz\n",
        "\n",
        "! cp ssh/* /root/.ssh && rm -rf ssh && rm -rf ssh.tar.gz\n",
        "! chmod 700 /root/.ssh\n",
        "\n",
        "! ssh-keyscan github.com >> /root/.ssh/known_hosts\n",
        "! chmod 644 /root/.ssh/known_hosts"
      ]
    },
    {
      "cell_type": "code",
      "execution_count": null,
      "metadata": {
        "colab": {
          "base_uri": "https://localhost:8080/"
        },
        "id": "3bJVwKvPwmoc",
        "outputId": "d21fe25e-fc7a-4287-ecc9-6bb3daa2ca5d"
      },
      "outputs": [],
      "source": [
        "%cd gdrive/My Drive/Illinois/DL4Healthcare/Project\n",
        "\n",
        "! ls"
      ]
    },
    {
      "cell_type": "code",
      "execution_count": null,
      "metadata": {
        "colab": {
          "base_uri": "https://localhost:8080/"
        },
        "id": "RAK4hjUHxPop",
        "outputId": "19ae36af-c8dd-44b8-a8b9-77ad79a0575e"
      },
      "outputs": [],
      "source": [
        "! git clone git@github.com:dmcguire81/CS598DL4H.git"
      ]
    },
    {
      "cell_type": "code",
      "execution_count": null,
      "metadata": {
        "colab": {
          "base_uri": "https://localhost:8080/"
        },
        "id": "7p6B-9ZO06qU",
        "outputId": "0b5569b3-72f0-4ee3-9844-bef639b1191b"
      },
      "outputs": [],
      "source": [
        "%cd CS598DL4H\n",
        "\n",
        "! ls"
      ]
    },
    {
      "cell_type": "code",
      "execution_count": null,
      "metadata": {
        "colab": {
          "base_uri": "https://localhost:8080/"
        },
        "id": "vh4j4qC8086C",
        "outputId": "8d562d01-5fd7-4928-c7e7-ea5fbb1ad6f5"
      },
      "outputs": [],
      "source": [
        "! git submodule init\n",
        "! git submodule update"
      ]
    }
  ],
  "metadata": {
    "colab": {
      "collapsed_sections": [],
      "name": "Setup.ipynb",
      "provenance": []
    },
    "kernelspec": {
      "display_name": "Python 3",
      "name": "python3"
    },
    "language_info": {
      "name": "python"
    }
  },
  "nbformat": 4,
  "nbformat_minor": 0
}
